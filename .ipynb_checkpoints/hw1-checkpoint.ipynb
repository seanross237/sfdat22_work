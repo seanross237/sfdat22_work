{
 "cells": [
  {
   "cell_type": "code",
   "execution_count": 1,
   "metadata": {
    "collapsed": true
   },
   "outputs": [],
   "source": [
    "import pandas as pd\n",
    "# pd.set_option('max_colwidth', 50)\n",
    "# set this if you need to"
   ]
  },
  {
   "cell_type": "code",
   "execution_count": 4,
   "metadata": {
    "collapsed": false
   },
   "outputs": [
    {
     "data": {
      "text/html": [
       "<div>\n",
       "<table border=\"1\" class=\"dataframe\">\n",
       "  <thead>\n",
       "    <tr style=\"text-align: right;\">\n",
       "      <th></th>\n",
       "      <th>Unnamed: 0</th>\n",
       "      <th>name</th>\n",
       "      <th>age</th>\n",
       "      <th>gender</th>\n",
       "      <th>raceethnicity</th>\n",
       "      <th>month</th>\n",
       "      <th>day</th>\n",
       "      <th>year</th>\n",
       "      <th>streetaddress</th>\n",
       "      <th>city</th>\n",
       "      <th>state</th>\n",
       "      <th>lawenforcementagency</th>\n",
       "      <th>cause</th>\n",
       "      <th>armed</th>\n",
       "      <th>county_income</th>\n",
       "    </tr>\n",
       "  </thead>\n",
       "  <tbody>\n",
       "    <tr>\n",
       "      <th>0</th>\n",
       "      <td>0</td>\n",
       "      <td>A'donte Washington</td>\n",
       "      <td>16</td>\n",
       "      <td>Male</td>\n",
       "      <td>Black</td>\n",
       "      <td>February</td>\n",
       "      <td>23</td>\n",
       "      <td>2015</td>\n",
       "      <td>Clearview Ln</td>\n",
       "      <td>Millbrook</td>\n",
       "      <td>AL</td>\n",
       "      <td>Millbrook Police Department</td>\n",
       "      <td>Gunshot</td>\n",
       "      <td>No</td>\n",
       "      <td>54766</td>\n",
       "    </tr>\n",
       "    <tr>\n",
       "      <th>1</th>\n",
       "      <td>1</td>\n",
       "      <td>Aaron Rutledge</td>\n",
       "      <td>27</td>\n",
       "      <td>Male</td>\n",
       "      <td>White</td>\n",
       "      <td>April</td>\n",
       "      <td>2</td>\n",
       "      <td>2015</td>\n",
       "      <td>300 block Iris Park Dr</td>\n",
       "      <td>Pineville</td>\n",
       "      <td>LA</td>\n",
       "      <td>Rapides Parish Sheriff's Office</td>\n",
       "      <td>Gunshot</td>\n",
       "      <td>No</td>\n",
       "      <td>40930</td>\n",
       "    </tr>\n",
       "    <tr>\n",
       "      <th>2</th>\n",
       "      <td>2</td>\n",
       "      <td>Aaron Siler</td>\n",
       "      <td>26</td>\n",
       "      <td>Male</td>\n",
       "      <td>White</td>\n",
       "      <td>March</td>\n",
       "      <td>14</td>\n",
       "      <td>2015</td>\n",
       "      <td>22nd Ave and 56th St</td>\n",
       "      <td>Kenosha</td>\n",
       "      <td>WI</td>\n",
       "      <td>Kenosha Police Department</td>\n",
       "      <td>Gunshot</td>\n",
       "      <td>No</td>\n",
       "      <td>54930</td>\n",
       "    </tr>\n",
       "    <tr>\n",
       "      <th>3</th>\n",
       "      <td>3</td>\n",
       "      <td>Aaron Valdez</td>\n",
       "      <td>25</td>\n",
       "      <td>Male</td>\n",
       "      <td>Hispanic/Latino</td>\n",
       "      <td>March</td>\n",
       "      <td>11</td>\n",
       "      <td>2015</td>\n",
       "      <td>3000 Seminole Ave</td>\n",
       "      <td>South Gate</td>\n",
       "      <td>CA</td>\n",
       "      <td>South Gate Police Department</td>\n",
       "      <td>Gunshot</td>\n",
       "      <td>Firearm</td>\n",
       "      <td>55909</td>\n",
       "    </tr>\n",
       "    <tr>\n",
       "      <th>4</th>\n",
       "      <td>4</td>\n",
       "      <td>Adam Jovicic</td>\n",
       "      <td>29</td>\n",
       "      <td>Male</td>\n",
       "      <td>White</td>\n",
       "      <td>March</td>\n",
       "      <td>19</td>\n",
       "      <td>2015</td>\n",
       "      <td>364 Hiwood Ave</td>\n",
       "      <td>Munroe Falls</td>\n",
       "      <td>OH</td>\n",
       "      <td>Kent Police Department</td>\n",
       "      <td>Gunshot</td>\n",
       "      <td>No</td>\n",
       "      <td>49669</td>\n",
       "    </tr>\n",
       "  </tbody>\n",
       "</table>\n",
       "</div>"
      ],
      "text/plain": [
       "   Unnamed: 0                name  age gender    raceethnicity     month  day  \\\n",
       "0           0  A'donte Washington   16   Male            Black  February   23   \n",
       "1           1      Aaron Rutledge   27   Male            White     April    2   \n",
       "2           2         Aaron Siler   26   Male            White     March   14   \n",
       "3           3        Aaron Valdez   25   Male  Hispanic/Latino     March   11   \n",
       "4           4        Adam Jovicic   29   Male            White     March   19   \n",
       "\n",
       "   year           streetaddress          city state  \\\n",
       "0  2015            Clearview Ln     Millbrook    AL   \n",
       "1  2015  300 block Iris Park Dr     Pineville    LA   \n",
       "2  2015    22nd Ave and 56th St       Kenosha    WI   \n",
       "3  2015       3000 Seminole Ave    South Gate    CA   \n",
       "4  2015          364 Hiwood Ave  Munroe Falls    OH   \n",
       "\n",
       "              lawenforcementagency    cause    armed  county_income  \n",
       "0      Millbrook Police Department  Gunshot       No          54766  \n",
       "1  Rapides Parish Sheriff's Office  Gunshot       No          40930  \n",
       "2        Kenosha Police Department  Gunshot       No          54930  \n",
       "3     South Gate Police Department  Gunshot  Firearm          55909  \n",
       "4           Kent Police Department  Gunshot       No          49669  "
      ]
     },
     "execution_count": 4,
     "metadata": {},
     "output_type": "execute_result"
    }
   ],
   "source": [
    "killings = pd.read_csv('~/desktop/ga/sfdat22/data/police-killings.csv')\n",
    "killings.head()"
   ]
  },
  {
   "cell_type": "code",
   "execution_count": null,
   "metadata": {
    "collapsed": true
   },
   "outputs": [],
   "source": [
    "# 1. Make the following changed to column names:\n",
    "# lawenforcementagency -> agency\n",
    "# raceethnicity        -> race"
   ]
  },
  {
   "cell_type": "code",
   "execution_count": null,
   "metadata": {
    "collapsed": true
   },
   "outputs": [],
   "source": [
    "# 2. Show the count of missing values in each column"
   ]
  },
  {
   "cell_type": "code",
   "execution_count": null,
   "metadata": {
    "collapsed": true
   },
   "outputs": [],
   "source": [
    "# 3. replace each null value in the dataframe with the string \"Unknown\""
   ]
  },
  {
   "cell_type": "code",
   "execution_count": null,
   "metadata": {
    "collapsed": true
   },
   "outputs": [],
   "source": [
    "# 4. How many killings were there so far in 2015?"
   ]
  },
  {
   "cell_type": "code",
   "execution_count": null,
   "metadata": {
    "collapsed": true
   },
   "outputs": [],
   "source": [
    "# 5. Of all killings, how many were male and how many female?"
   ]
  },
  {
   "cell_type": "code",
   "execution_count": null,
   "metadata": {
    "collapsed": true
   },
   "outputs": [],
   "source": [
    "# 6. How many killings were of unarmed people?"
   ]
  },
  {
   "cell_type": "code",
   "execution_count": null,
   "metadata": {
    "collapsed": true
   },
   "outputs": [],
   "source": [
    "# 7. What percentage of all killings were unarmed?"
   ]
  },
  {
   "cell_type": "code",
   "execution_count": null,
   "metadata": {
    "collapsed": true
   },
   "outputs": [],
   "source": [
    "# 8. What are the 5 states with the most killings?"
   ]
  },
  {
   "cell_type": "code",
   "execution_count": null,
   "metadata": {
    "collapsed": true
   },
   "outputs": [],
   "source": [
    "# 9. Show a value counts of deaths for each race"
   ]
  },
  {
   "cell_type": "code",
   "execution_count": null,
   "metadata": {
    "collapsed": true
   },
   "outputs": [],
   "source": [
    "# 10. Display a histogram of ages of all killings"
   ]
  },
  {
   "cell_type": "code",
   "execution_count": null,
   "metadata": {
    "collapsed": true
   },
   "outputs": [],
   "source": [
    "# 11. Show 6 histograms of ages by race"
   ]
  },
  {
   "cell_type": "code",
   "execution_count": null,
   "metadata": {
    "collapsed": true
   },
   "outputs": [],
   "source": [
    "# 12. What is the average age of death by race?"
   ]
  },
  {
   "cell_type": "code",
   "execution_count": null,
   "metadata": {
    "collapsed": true
   },
   "outputs": [],
   "source": [
    "# 13. Show a bar chart with counts of deaths every month"
   ]
  },
  {
   "cell_type": "code",
   "execution_count": null,
   "metadata": {
    "collapsed": true
   },
   "outputs": [],
   "source": [
    "###################\n",
    "### Less Morbid ###\n",
    "###################"
   ]
  },
  {
   "cell_type": "code",
   "execution_count": null,
   "metadata": {
    "collapsed": true
   },
   "outputs": [],
   "source": [
    "majors = pd.read_csv('./data/college-majors.csv')\n",
    "majors.head()"
   ]
  },
  {
   "cell_type": "code",
   "execution_count": null,
   "metadata": {
    "collapsed": true
   },
   "outputs": [],
   "source": [
    "# 1. Delete the columns (employed_full_time_year_round, major_code)"
   ]
  },
  {
   "cell_type": "code",
   "execution_count": null,
   "metadata": {
    "collapsed": true
   },
   "outputs": [],
   "source": [
    "# 2. Show the cout of missing values in each column"
   ]
  },
  {
   "cell_type": "code",
   "execution_count": null,
   "metadata": {
    "collapsed": true
   },
   "outputs": [],
   "source": [
    "# 3. What are the top 10 highest paying majors?"
   ]
  },
  {
   "cell_type": "code",
   "execution_count": null,
   "metadata": {
    "collapsed": true
   },
   "outputs": [],
   "source": [
    "# 4. Plot the data from the last question in a bar chart, include proper title, and labels!"
   ]
  },
  {
   "cell_type": "code",
   "execution_count": null,
   "metadata": {
    "collapsed": true
   },
   "outputs": [],
   "source": [
    "# 5. What is the average median salary for each major category?"
   ]
  },
  {
   "cell_type": "code",
   "execution_count": null,
   "metadata": {
    "collapsed": true
   },
   "outputs": [],
   "source": [
    "# 6. Show only the top 5 paying major categories"
   ]
  },
  {
   "cell_type": "code",
   "execution_count": null,
   "metadata": {
    "collapsed": true
   },
   "outputs": [],
   "source": [
    "# 7. Plot a histogram of the distribution of median salaries"
   ]
  },
  {
   "cell_type": "code",
   "execution_count": null,
   "metadata": {
    "collapsed": true
   },
   "outputs": [],
   "source": [
    "# 8. Plot a histogram of the distribution of median salaries by major category"
   ]
  },
  {
   "cell_type": "code",
   "execution_count": null,
   "metadata": {
    "collapsed": true
   },
   "outputs": [],
   "source": [
    "# 9. What are the top 10 most UNemployed majors?"
   ]
  },
  {
   "cell_type": "code",
   "execution_count": null,
   "metadata": {
    "collapsed": true
   },
   "outputs": [],
   "source": [
    "# What are the unemployment rates?"
   ]
  },
  {
   "cell_type": "code",
   "execution_count": null,
   "metadata": {
    "collapsed": true
   },
   "outputs": [],
   "source": [
    "# 10. What are the top 10 most UNemployed majors CATEGORIES? Use the mean for each category\n",
    "# What are the unemployment rates?"
   ]
  },
  {
   "cell_type": "code",
   "execution_count": null,
   "metadata": {
    "collapsed": true
   },
   "outputs": [],
   "source": [
    "# 11. the total and employed column refer to the people that were surveyed.\n",
    "# Create a new column showing the emlpoyment rate of the people surveyed for each major\n",
    "# call it \"sample_employment_rate\"\n",
    "# Example the first row has total: 128148 and employed: 90245. it's \n",
    "# sample_employment_rate should be 90245.0 / 128148.0 = .7042"
   ]
  },
  {
   "cell_type": "code",
   "execution_count": null,
   "metadata": {
    "collapsed": true
   },
   "outputs": [],
   "source": [
    "# 12. Create a \"sample_unemployment_rate\" colun\n",
    "# this column should be 1 - \"sample_employment_rate\""
   ]
  },
  {
   "cell_type": "code",
   "execution_count": null,
   "metadata": {
    "collapsed": true
   },
   "outputs": [],
   "source": [
    "###################\n",
    "### More Tasty ###\n",
    "###################"
   ]
  },
  {
   "cell_type": "markdown",
   "metadata": {},
   "source": [
    "The Health Department has developed an inspection report and scoring system. \n",
    "After conducting an inspection of the facility, the Health Inspector calculates a score based on the violations observed. \n",
    "Violations can fall into:\n",
    "- **high risk category**: records specific violations that directly relate to the transmission of food borne illnesses,the adulteration of food products and the contamination of food-contact surfaces.\n",
    "- **moderate risk category**: records specific violations that are of a moderate risk to the public health and safety.\n",
    "- **low risk category**: records violations that are low risk or have no immediate risk to the public health and safety."
   ]
  },
  {
   "cell_type": "code",
   "execution_count": null,
   "metadata": {
    "collapsed": false
   },
   "outputs": [],
   "source": [
    "businesses = pd.read_csv('./data/businesses_plus.csv', parse_dates=True, dtype={'phone_number': str})\n",
    "businesses.head()"
   ]
  },
  {
   "cell_type": "code",
   "execution_count": null,
   "metadata": {
    "collapsed": false
   },
   "outputs": [],
   "source": [
    "inspections = pd.read_csv('./data/inspections_plus.csv', parse_dates=True)\n",
    "inspections.head()"
   ]
  },
  {
   "cell_type": "code",
   "execution_count": null,
   "metadata": {
    "collapsed": false
   },
   "outputs": [],
   "source": [
    "violations = pd.read_csv('./data/violations_plus.csv', parse_dates=True)\n",
    "violations.head()"
   ]
  },
  {
   "cell_type": "code",
   "execution_count": null,
   "metadata": {
    "collapsed": false
   },
   "outputs": [],
   "source": [
    "# 1 Combine the three dataframes into one data frame called restaurant_scores\n",
    "# Hint: http://pandas.pydata.org/pandas-docs/stable/merging.html"
   ]
  },
  {
   "cell_type": "code",
   "execution_count": null,
   "metadata": {
    "collapsed": false
   },
   "outputs": [],
   "source": [
    "# 2 Which ten business have had the most inspections?"
   ]
  },
  {
   "cell_type": "code",
   "execution_count": null,
   "metadata": {
    "collapsed": true
   },
   "outputs": [],
   "source": [
    "# 3 Group and count the inspections by type"
   ]
  },
  {
   "cell_type": "code",
   "execution_count": null,
   "metadata": {
    "collapsed": false
   },
   "outputs": [],
   "source": [
    "# 4 Create a plot that shows number of inspections per month\n",
    "# Bonus for creating a heatmap\n",
    "# http://stanford.edu/~mwaskom/software/seaborn/generated/seaborn.heatmap.html?highlight=heatmap"
   ]
  },
  {
   "cell_type": "code",
   "execution_count": null,
   "metadata": {
    "collapsed": true
   },
   "outputs": [],
   "source": [
    "# 5 Which zip code contains the most high risk violations?"
   ]
  },
  {
   "cell_type": "code",
   "execution_count": null,
   "metadata": {
    "collapsed": true
   },
   "outputs": [],
   "source": [
    "# 6 If inspection is prompted by a change in restaurant ownership, \n",
    "# is the inspection more likely to be categorized as higher or lower risk?"
   ]
  },
  {
   "cell_type": "code",
   "execution_count": null,
   "metadata": {
    "collapsed": true
   },
   "outputs": [],
   "source": [
    "# 7 Examining the descriptions, what is the most common violation?"
   ]
  },
  {
   "cell_type": "code",
   "execution_count": null,
   "metadata": {
    "collapsed": true
   },
   "outputs": [],
   "source": [
    "# 8 What street has the best (safest) restaurants to dine out at?"
   ]
  },
  {
   "cell_type": "code",
   "execution_count": null,
   "metadata": {
    "collapsed": true
   },
   "outputs": [],
   "source": [
    "# 9 Create a hist of the scores with 10 bins"
   ]
  },
  {
   "cell_type": "code",
   "execution_count": null,
   "metadata": {
    "collapsed": true
   },
   "outputs": [],
   "source": [
    "# 8 Extra Credit:\n",
    "# Use Instagram location API to find pictures taken at the lat, long of the most High Risk restaurant\n",
    "# https://www.instagram.com/developer/endpoints/locations/"
   ]
  }
 ],
 "metadata": {
  "kernelspec": {
   "display_name": "Python 2",
   "language": "python",
   "name": "python2"
  },
  "language_info": {
   "codemirror_mode": {
    "name": "ipython",
    "version": 2
   },
   "file_extension": ".py",
   "mimetype": "text/x-python",
   "name": "python",
   "nbconvert_exporter": "python",
   "pygments_lexer": "ipython2",
   "version": "2.7.10"
  }
 },
 "nbformat": 4,
 "nbformat_minor": 0
}
